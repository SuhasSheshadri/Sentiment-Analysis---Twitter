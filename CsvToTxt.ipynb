{
 "cells": [
  {
   "cell_type": "code",
   "execution_count": 7,
   "metadata": {},
   "outputs": [
    {
     "name": "stdout",
     "output_type": "stream",
     "text": [
      "File Successfully written.\n"
     ]
    }
   ],
   "source": [
    "import csv\n",
    "import re\n",
    "import codecs\n",
    "import unidecode\n",
    "\n",
    "# File = \"June 23.csv\"\n",
    "# File = \"July 7.csv\"\n",
    "File = \"All tweets.csv\"\n",
    "\n",
    "text_list = []\n",
    "\n",
    "with open(File, \"r\", encoding = \"utf8\") as my_input_file:\n",
    "    next(my_input_file)\n",
    "    for line in my_input_file:\n",
    "        # clean data\n",
    "        line = line[18:]\n",
    "        line = re.sub(\"<.*>|<|!|\\.|@|#|\\$|\\*|:|%|\\+|…|\\\\\\\\|\\/|«|»|···|\\||\\•|\\?|\\(|\\)|=|-|&|;|\\_|—|~|¯|\\{|\\}|\\[|\\]|£|€|¥|¿|–\", \"\", line)\n",
    "        line = re.sub(\"\\“|\\”|\\‘|\\’|\\\"|,|'\", \" \", line)\n",
    "        line = re.sub(\"[0-9]+|http[a-zA-Z0-9]+\", \" \", line)\n",
    "        line = line.lower()\n",
    "        text_list.append(line)\n",
    "\n",
    "# txt_file = \"June 23.txt\"\n",
    "# txt_file = \"July 7.txt\"\n",
    "txt_file = \"All tweets.txt\"\n",
    "\n",
    "with codecs.open(txt_file, \"w\", \"utf-8\") as my_output_file:\n",
    "    for line in text_list:\n",
    "#         print(line)\n",
    "        line = unidecode.unidecode(line)\n",
    "        my_output_file.write(line)\n",
    "    print('File Successfully written.')"
   ]
  },
  {
   "cell_type": "code",
   "execution_count": null,
   "metadata": {},
   "outputs": [],
   "source": []
  }
 ],
 "metadata": {
  "kernelspec": {
   "display_name": "Python 3",
   "language": "python",
   "name": "python3"
  },
  "language_info": {
   "codemirror_mode": {
    "name": "ipython",
    "version": 3
   },
   "file_extension": ".py",
   "mimetype": "text/x-python",
   "name": "python",
   "nbconvert_exporter": "python",
   "pygments_lexer": "ipython3",
   "version": "3.6.6"
  }
 },
 "nbformat": 4,
 "nbformat_minor": 2
}
